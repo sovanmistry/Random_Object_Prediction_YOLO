{
 "cells": [
  {
   "cell_type": "markdown",
   "id": "529b8575",
   "metadata": {},
   "source": [
    "## Predictions - Image and Video"
   ]
  },
  {
   "cell_type": "code",
   "execution_count": 1,
   "id": "306c08ab",
   "metadata": {},
   "outputs": [],
   "source": [
    "import cv2\n",
    "from yolo_predictions import YOLO_pred"
   ]
  },
  {
   "cell_type": "code",
   "execution_count": 2,
   "id": "93148ac2",
   "metadata": {},
   "outputs": [],
   "source": [
    "yolo = YOLO_pred('./Model5/weights.best.onnx', 'data.yaml')"
   ]
  },
  {
   "cell_type": "markdown",
   "id": "6055dfb9",
   "metadata": {},
   "source": [
    "## Image Detection"
   ]
  },
  {
   "cell_type": "code",
   "execution_count": 3,
   "id": "a37d9f3b",
   "metadata": {},
   "outputs": [],
   "source": [
    "img = cv2.imread('./street_image.jpg')\n",
    "\n",
    "cv2.imshow('img',img)\n",
    "cv2.waitKey(0)\n",
    "cv2.destroyAllWindows()"
   ]
  },
  {
   "cell_type": "code",
   "execution_count": 4,
   "id": "f73ce729",
   "metadata": {},
   "outputs": [],
   "source": [
    "img_pred = yolo.predictions(img)"
   ]
  },
  {
   "cell_type": "code",
   "execution_count": 5,
   "id": "0cc11f02",
   "metadata": {},
   "outputs": [],
   "source": [
    "cv2.imshow('Predicted Image',img_pred)\n",
    "cv2.waitKey(0)\n",
    "cv2.destroyAllWindows()"
   ]
  },
  {
   "cell_type": "markdown",
   "id": "76051257",
   "metadata": {},
   "source": [
    "## Object Detection from Video"
   ]
  },
  {
   "cell_type": "code",
   "execution_count": 6,
   "id": "863deb5f",
   "metadata": {},
   "outputs": [],
   "source": [
    "cap = cv2.VideoCapture('video.mp4')\n",
    "\n",
    "while True:\n",
    "    ret, frame = cap.read()\n",
    "    if ret == False:\n",
    "        print(\"Unable to Read Video\")\n",
    "        break\n",
    "        \n",
    "    pred_image = yolo.predictions(frame)\n",
    "    \n",
    "    cv2.imshow('YOLO', pred_image)\n",
    "    if cv2.waitKey(5) == 27:\n",
    "        break\n",
    "\n",
    "cv2.destroyAllWindows()        "
   ]
  },
  {
   "cell_type": "markdown",
   "id": "23af3db9",
   "metadata": {},
   "source": [
    "## Real Time Object Detection"
   ]
  },
  {
   "cell_type": "code",
   "execution_count": 7,
   "id": "935d58bf",
   "metadata": {},
   "outputs": [
    {
     "name": "stdout",
     "output_type": "stream",
     "text": [
      "Unable to Read Video\n"
     ]
    }
   ],
   "source": [
    "cap = cv2.VideoCapture(0)\n",
    "\n",
    "while True:\n",
    "    ret, frame = cap.read()\n",
    "    if ret == False:\n",
    "        print(\"Unable to Read Video\")\n",
    "        break\n",
    "        \n",
    "    pred_image = yolo.predictions(frame)\n",
    "    \n",
    "    cv2.imshow('YOLO', pred_image)\n",
    "    if cv2.waitKey(5) == 27:\n",
    "        break\n",
    "\n",
    "cv2.destroyAllWindows() "
   ]
  },
  {
   "cell_type": "code",
   "execution_count": null,
   "id": "ed05ffe9",
   "metadata": {},
   "outputs": [],
   "source": []
  }
 ],
 "metadata": {
  "kernelspec": {
   "display_name": "Python 3 (ipykernel)",
   "language": "python",
   "name": "python3"
  },
  "language_info": {
   "codemirror_mode": {
    "name": "ipython",
    "version": 3
   },
   "file_extension": ".py",
   "mimetype": "text/x-python",
   "name": "python",
   "nbconvert_exporter": "python",
   "pygments_lexer": "ipython3",
   "version": "3.9.13"
  }
 },
 "nbformat": 4,
 "nbformat_minor": 5
}
