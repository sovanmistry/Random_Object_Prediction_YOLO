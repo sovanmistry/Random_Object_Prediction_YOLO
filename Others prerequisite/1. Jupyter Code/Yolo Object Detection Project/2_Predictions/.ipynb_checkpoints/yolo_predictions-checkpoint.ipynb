{
 "cells": [
  {
   "cell_type": "markdown",
   "id": "3847a96e",
   "metadata": {},
   "source": [
    "# YOLO PREDICTIONS"
   ]
  },
  {
   "cell_type": "markdown",
   "id": "7175a31b",
   "metadata": {},
   "source": [
    "## Install Necessary Packages "
   ]
  },
  {
   "cell_type": "code",
   "execution_count": 1,
   "id": "d1d5501a",
   "metadata": {
    "scrolled": false
   },
   "outputs": [
    {
     "name": "stdout",
     "output_type": "stream",
     "text": [
      "Requirement already satisfied: opencv-python==4.6.0.66 in c:\\users\\06533v744\\anaconda3\\lib\\site-packages (4.6.0.66)\n",
      "Requirement already satisfied: numpy>=1.14.5 in c:\\users\\06533v744\\anaconda3\\lib\\site-packages (from opencv-python==4.6.0.66) (1.21.5)\n",
      "Note: you may need to restart the kernel to use updated packages.\n"
     ]
    }
   ],
   "source": [
    "pip install opencv-python==4.6.0.66"
   ]
  },
  {
   "cell_type": "code",
   "execution_count": 2,
   "id": "be722a63",
   "metadata": {},
   "outputs": [
    {
     "name": "stdout",
     "output_type": "stream",
     "text": [
      "Requirement already satisfied: PyYAML in c:\\users\\06533v744\\anaconda3\\lib\\site-packages (6.0)\n"
     ]
    }
   ],
   "source": [
    "!pip install PyYAML"
   ]
  },
  {
   "cell_type": "markdown",
   "id": "0d64ec57",
   "metadata": {},
   "source": [
    "## Import Necessary Libraries"
   ]
  },
  {
   "cell_type": "code",
   "execution_count": 3,
   "id": "9bf56b3f",
   "metadata": {},
   "outputs": [],
   "source": [
    "import cv2\n",
    "import numpy as np\n",
    "import os\n",
    "import yaml\n",
    "from yaml.loader import SafeLoader"
   ]
  },
  {
   "cell_type": "markdown",
   "id": "6602c5d7",
   "metadata": {},
   "source": [
    "## STEP 1 : LOAD YAML FILE"
   ]
  },
  {
   "cell_type": "code",
   "execution_count": 4,
   "id": "8482727f",
   "metadata": {},
   "outputs": [
    {
     "name": "stdout",
     "output_type": "stream",
     "text": [
      "['person', 'car', 'chair', 'bottle', 'pottedplant', 'bird', 'dog', 'sofa', 'bicycle', 'horse', 'boat', 'motorbike', 'cat', 'tvmonitor', 'cow', 'sheep', 'aeroplane', 'train', 'diningtable', 'bus']\n"
     ]
    }
   ],
   "source": [
    "with open('data.yaml', mode = 'r') as f:\n",
    "    data_yaml = yaml.load(f, Loader = SafeLoader)\n",
    "    \n",
    "labels = data_yaml['names']\n",
    "print(labels)"
   ]
  },
  {
   "cell_type": "markdown",
   "id": "dd5efd3f",
   "metadata": {},
   "source": [
    "## STEP2 : LOAD YOLO MODEL with OPENCV"
   ]
  },
  {
   "cell_type": "raw",
   "id": "0b6fe694",
   "metadata": {},
   "source": [
    "We need to import the ONNX file which was generated after training (Google Colab)"
   ]
  },
  {
   "cell_type": "code",
   "execution_count": 5,
   "id": "4c02ed75",
   "metadata": {},
   "outputs": [],
   "source": [
    "yolo = cv2.dnn.readNetFromONNX('./Model5/weights/best.onnx')\n",
    "yolo.setPreferableBackend(cv2.dnn.DNN_BACKEND_OPENCV)\n",
    "yolo.setPreferableTarget(cv2.dnn.DNN_TARGET_CPU)"
   ]
  },
  {
   "cell_type": "markdown",
   "id": "8a16218e",
   "metadata": {},
   "source": [
    "## STEP 3: Load the image"
   ]
  },
  {
   "cell_type": "code",
   "execution_count": 6,
   "id": "744dae0c",
   "metadata": {},
   "outputs": [],
   "source": [
    "img = cv2.imread('./street_image.jpg')\n",
    "image = img.copy()"
   ]
  },
  {
   "cell_type": "code",
   "execution_count": 7,
   "id": "5adf4c99",
   "metadata": {},
   "outputs": [
    {
     "data": {
      "text/plain": [
       "\"\\ncv2.imshow('image',image)\\ncv2.waitKey(0)\\ncv2.destroyAllWindows()\\n\""
      ]
     },
     "execution_count": 7,
     "metadata": {},
     "output_type": "execute_result"
    }
   ],
   "source": [
    "# To View the image\n",
    "\n",
    "'''\n",
    "cv2.imshow('image',image)\n",
    "cv2.waitKey(0)\n",
    "cv2.destroyAllWindows()\n",
    "'''"
   ]
  },
  {
   "cell_type": "raw",
   "id": "12198d2a",
   "metadata": {},
   "source": [
    "Original Image"
   ]
  },
  {
   "cell_type": "markdown",
   "id": "70cbeef8",
   "metadata": {},
   "source": [
    "<img src = 'street_image.jpg'>"
   ]
  },
  {
   "cell_type": "markdown",
   "id": "5ef25306",
   "metadata": {},
   "source": [
    "## STEP 4 : Retune the Image"
   ]
  },
  {
   "cell_type": "code",
   "execution_count": 8,
   "id": "1bcee418",
   "metadata": {},
   "outputs": [
    {
     "data": {
      "text/plain": [
       "(956, 1920, 3)"
      ]
     },
     "execution_count": 8,
     "metadata": {},
     "output_type": "execute_result"
    }
   ],
   "source": [
    "# Check Height Width and Depth of image\n",
    "\n",
    "row, col, d = image.shape\n",
    "row, col, d"
   ]
  },
  {
   "cell_type": "markdown",
   "id": "7285fc71",
   "metadata": {},
   "source": [
    "### TASK : Covert our image into Square Image"
   ]
  },
  {
   "cell_type": "code",
   "execution_count": 9,
   "id": "f754f5b6",
   "metadata": {},
   "outputs": [],
   "source": [
    "# 1. decide the larger between row, col\n",
    "max_rc = max(row, col)\n",
    "\n",
    "# 2. Black Shell Matrix\n",
    "input_image = np.zeros((max_rc, max_rc, 3), dtype = np.uint8)"
   ]
  },
  {
   "cell_type": "code",
   "execution_count": 10,
   "id": "4dad6a36",
   "metadata": {},
   "outputs": [
    {
     "data": {
      "text/plain": [
       "\"\\ncv2.imshow('input_image',input_image)\\ncv2.waitKey(0)\\ncv2.destroyAllWindows()\\n\""
      ]
     },
     "execution_count": 10,
     "metadata": {},
     "output_type": "execute_result"
    }
   ],
   "source": [
    "# Check the Black Square Matrix\n",
    "\n",
    "'''\n",
    "cv2.imshow('input_image',input_image)\n",
    "cv2.waitKey(0)\n",
    "cv2.destroyAllWindows()\n",
    "'''"
   ]
  },
  {
   "cell_type": "code",
   "execution_count": 11,
   "id": "3f7d3c08",
   "metadata": {},
   "outputs": [],
   "source": [
    "# 3. Fill the Black Matrix with our Image\n",
    "\n",
    "input_image [0:row, 0:col] = image"
   ]
  },
  {
   "cell_type": "code",
   "execution_count": 12,
   "id": "3dc0ca1d",
   "metadata": {},
   "outputs": [
    {
     "data": {
      "text/plain": [
       "\"\\ncv2.imshow('input_image',input_image)\\ncv2.waitKey(0)\\ncv2.destroyAllWindows()\\n\""
      ]
     },
     "execution_count": 12,
     "metadata": {},
     "output_type": "execute_result"
    }
   ],
   "source": [
    "# Check the Converted Image\n",
    "\n",
    "'''\n",
    "cv2.imshow('input_image',input_image)\n",
    "cv2.waitKey(0)\n",
    "cv2.destroyAllWindows()\n",
    "'''"
   ]
  },
  {
   "cell_type": "code",
   "execution_count": 13,
   "id": "689277df",
   "metadata": {},
   "outputs": [],
   "source": [
    "## STEP 4 : GET PREDICTIONS FROM SQUARE ARRAY\n",
    "\n",
    "INPUT_WH_YOLO = 640\n",
    "blob = cv2.dnn.blobFromImage(input_image , 1/255, (INPUT_WH_YOLO, INPUT_WH_YOLO), swapRB=True, crop= False)\n",
    "yolo.setInput(blob)\n",
    "\n",
    "# Prediction from YOLO\n",
    "preds = yolo.forward() "
   ]
  },
  {
   "cell_type": "code",
   "execution_count": 14,
   "id": "f763800f",
   "metadata": {},
   "outputs": [
    {
     "name": "stdout",
     "output_type": "stream",
     "text": [
      "[[[6.9053793e+00 5.4312000e+00 1.3816580e+01 ... 1.9329831e-02\n",
      "   7.8076990e-03 6.3514709e-03]\n",
      "  [1.3570687e+01 5.3768034e+00 2.5515362e+01 ... 2.0302750e-02\n",
      "   7.6320907e-03 4.5632645e-03]\n",
      "  [1.7675758e+01 5.5848465e+00 2.9498156e+01 ... 2.6307669e-02\n",
      "   9.7375531e-03 8.5721789e-03]\n",
      "  ...\n",
      "  [5.6134430e+02 5.9979688e+02 1.5506219e+02 ... 3.8080622e-02\n",
      "   1.6806498e-02 2.0614417e-02]\n",
      "  [5.8220282e+02 6.0063727e+02 1.1114612e+02 ... 4.4948500e-02\n",
      "   2.4509836e-02 2.3215117e-02]\n",
      "  [6.0970844e+02 6.0693042e+02 1.1702031e+02 ... 6.6256702e-02\n",
      "   2.9338455e-02 3.4287363e-02]]]\n"
     ]
    }
   ],
   "source": [
    "print(preds)"
   ]
  },
  {
   "cell_type": "code",
   "execution_count": 15,
   "id": "f37ee34e",
   "metadata": {},
   "outputs": [
    {
     "data": {
      "text/plain": [
       "(1, 25200, 25)"
      ]
     },
     "execution_count": 15,
     "metadata": {},
     "output_type": "execute_result"
    }
   ],
   "source": [
    "preds.shape"
   ]
  },
  {
   "cell_type": "code",
   "execution_count": 16,
   "id": "f4c1ef33",
   "metadata": {},
   "outputs": [
    {
     "data": {
      "text/plain": [
       "'\\nNo of Bounding Boxes Detected by Model = 25200\\n\\nfor each and every Bounding Box those info are available in 25 coloumns\\n\\n'"
      ]
     },
     "execution_count": 16,
     "metadata": {},
     "output_type": "execute_result"
    }
   ],
   "source": [
    "# Conclusion : \n",
    "\n",
    "'''\n",
    "No of Bounding Boxes Detected by Model = 25200\n",
    "\n",
    "for each and every Bounding Box those info are available in 25 coloumns\n",
    "\n",
    "'''"
   ]
  },
  {
   "cell_type": "markdown",
   "id": "a20360bf",
   "metadata": {},
   "source": [
    "SAMPLE YOLO OUTPUT"
   ]
  },
  {
   "cell_type": "markdown",
   "id": "d89205c5",
   "metadata": {},
   "source": [
    "<img src = 'Supporting Image\\Yolo Structure.png'>"
   ]
  },
  {
   "cell_type": "markdown",
   "id": "99d61090",
   "metadata": {},
   "source": [
    "## STEP 5:  NON MAX SUPPRESSION "
   ]
  },
  {
   "cell_type": "markdown",
   "id": "6dec8817",
   "metadata": {},
   "source": [
    "### Filter Detection based on Confidence 0.4 and Probability Score 0.25"
   ]
  },
  {
   "cell_type": "code",
   "execution_count": 17,
   "id": "2479071a",
   "metadata": {},
   "outputs": [],
   "source": [
    "detections = preds[0]\n",
    "\n",
    "boxes = []\n",
    "confidences = []\n",
    "classes = []"
   ]
  },
  {
   "cell_type": "code",
   "execution_count": 18,
   "id": "0fce6a7a",
   "metadata": {},
   "outputs": [
    {
     "data": {
      "text/plain": [
       "(1920, 1920)"
      ]
     },
     "execution_count": 18,
     "metadata": {},
     "output_type": "execute_result"
    }
   ],
   "source": [
    "# Caclculate Width and Height of the Image\n",
    "\n",
    "image_w, image_h = input_image.shape[:2]\n",
    "image_w, image_h"
   ]
  },
  {
   "cell_type": "code",
   "execution_count": 19,
   "id": "2509e529",
   "metadata": {},
   "outputs": [
    {
     "data": {
      "text/plain": [
       "(3.0, 3.0)"
      ]
     },
     "execution_count": 19,
     "metadata": {},
     "output_type": "execute_result"
    }
   ],
   "source": [
    "# Calculate X_Factor & Y_Factor\n",
    "\n",
    "x_factor = image_w/INPUT_WH_YOLO\n",
    "y_factor = image_h/INPUT_WH_YOLO\n",
    "\n",
    "x_factor, y_factor"
   ]
  },
  {
   "cell_type": "code",
   "execution_count": 20,
   "id": "8efc4095",
   "metadata": {},
   "outputs": [],
   "source": [
    "# Filter Detection based on Confidence 0.4 and Probability Score 0.25\n",
    "\n",
    "for i in range(len(detections)):\n",
    "    row = detections[i]\n",
    "    \n",
    "    # Confidence of detecting an Object\n",
    "    confidence = row[4] \n",
    "    \n",
    "    if confidence > 0.4: \n",
    "        \n",
    "        # Maximum Probability from 20 Objects\n",
    "        class_score = row[5:].max()\n",
    "        \n",
    "        # Which Class gives Max Probablitiy\n",
    "        class_id = row[5:].argmax()\n",
    "        \n",
    "        if class_score > 0.25:\n",
    "            cx, cy, w, h = row[0:4]\n",
    "            \n",
    "            # CONSTRUCT BOUNDING BOXES from the values\n",
    "            # Left, TOP, WIDTH & HEIGHT\n",
    "            \n",
    "            left   = int((cx - 0.5*w)* x_factor)\n",
    "            top    = int((cy - 0.5*h)* y_factor)\n",
    "            width  = int(w*x_factor)\n",
    "            height = int(h*y_factor)\n",
    "            \n",
    "            box = np.array([left, top, width, height])\n",
    "            \n",
    "            # Append Values into List\n",
    "            confidences.append (confidence)\n",
    "            boxes.append (box)\n",
    "            classes.append (class_id)\n",
    "       "
   ]
  },
  {
   "cell_type": "markdown",
   "id": "12f4706e",
   "metadata": {},
   "source": [
    "### Clean Duplicate Values & Store it in Numpy List "
   ]
  },
  {
   "cell_type": "code",
   "execution_count": 21,
   "id": "651ee2a4",
   "metadata": {},
   "outputs": [],
   "source": [
    "boxes_np = np.array(boxes).tolist()\n",
    "confidences_np = np.array(confidences).tolist()"
   ]
  },
  {
   "cell_type": "markdown",
   "id": "f722f541",
   "metadata": {},
   "source": [
    "### Non Max Suppression Operation"
   ]
  },
  {
   "cell_type": "code",
   "execution_count": 22,
   "id": "794b79d9",
   "metadata": {},
   "outputs": [],
   "source": [
    "index = cv2.dnn.NMSBoxes(boxes_np, confidences_np, 0.25, 0.45).flatten()"
   ]
  },
  {
   "cell_type": "code",
   "execution_count": 23,
   "id": "15c7422c",
   "metadata": {},
   "outputs": [
    {
     "data": {
      "text/plain": [
       "27"
      ]
     },
     "execution_count": 23,
     "metadata": {},
     "output_type": "execute_result"
    }
   ],
   "source": [
    "len(index)"
   ]
  },
  {
   "cell_type": "markdown",
   "id": "91704b7f",
   "metadata": {},
   "source": [
    "### Draw the BOUNDING BOX"
   ]
  },
  {
   "cell_type": "code",
   "execution_count": 24,
   "id": "3a90119a",
   "metadata": {},
   "outputs": [],
   "source": [
    "for ind in index : \n",
    "    \n",
    "    # Extract Bounding Box\n",
    "    x, y, w, h = boxes_np[ind]\n",
    "    bb_conf = confidences_np[ind] * 100\n",
    "    classes_id = classes[ind]\n",
    "    class_name = labels[classes_id]\n",
    "    \n",
    "    text = f'{class_name} : {bb_conf}%'\n",
    "    \n",
    "    cv2.rectangle(image, (x,y), (x+w, y+h), (0,255, 0), 2)\n",
    "    cv2.rectangle(image, (x,y-30), (x+w, y), (255,255, 255), -1)\n",
    "    \n",
    "    cv2.putText(image, text, (x,y-10), cv2.FONT_HERSHEY_PLAIN, 0.7, (0,0,0),1)"
   ]
  },
  {
   "cell_type": "code",
   "execution_count": null,
   "id": "c5415814",
   "metadata": {},
   "outputs": [],
   "source": [
    "cv2.imshow('Original',img)\n",
    "cv2.imshow('Predicted',image)\n",
    "cv2.waitKey(0)\n",
    "cv2.destroyAllWindows()"
   ]
  },
  {
   "cell_type": "markdown",
   "id": "49d441d5",
   "metadata": {},
   "source": [
    "#### Original Image - Rehaped"
   ]
  },
  {
   "cell_type": "markdown",
   "id": "30dece2c",
   "metadata": {},
   "source": [
    "<img src = 'Supporting Image\\Original Image.jpeg'>"
   ]
  },
  {
   "cell_type": "markdown",
   "id": "e828064a",
   "metadata": {},
   "source": [
    "#### Predicted Image with Bounding Boxes"
   ]
  },
  {
   "cell_type": "markdown",
   "id": "71424826",
   "metadata": {},
   "source": [
    "<img src = 'Supporting Image\\Predicted Image.jpeg'>"
   ]
  },
  {
   "cell_type": "markdown",
   "id": "7293d4b5",
   "metadata": {},
   "source": [
    "## THE END"
   ]
  }
 ],
 "metadata": {
  "kernelspec": {
   "display_name": "Python 3 (ipykernel)",
   "language": "python",
   "name": "python3"
  },
  "language_info": {
   "codemirror_mode": {
    "name": "ipython",
    "version": 3
   },
   "file_extension": ".py",
   "mimetype": "text/x-python",
   "name": "python",
   "nbconvert_exporter": "python",
   "pygments_lexer": "ipython3",
   "version": "3.9.13"
  }
 },
 "nbformat": 4,
 "nbformat_minor": 5
}
