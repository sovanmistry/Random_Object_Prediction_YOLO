{
 "cells": [
  {
   "cell_type": "markdown",
   "id": "41a83b32",
   "metadata": {},
   "source": [
    "## Predictions - Image and Video"
   ]
  },
  {
   "cell_type": "code",
   "execution_count": 1,
   "id": "18f21607",
   "metadata": {},
   "outputs": [],
   "source": [
    "import cv2\n",
    "from yolo_predictions import YOLO_pred"
   ]
  },
  {
   "cell_type": "code",
   "execution_count": 2,
   "id": "fea99307",
   "metadata": {},
   "outputs": [],
   "source": [
    "yolo = YOLO_pred('./Model5/weights.best.onnx', 'data.yaml')"
   ]
  },
  {
   "cell_type": "markdown",
   "id": "7c8c7c7d",
   "metadata": {},
   "source": [
    "## Image Detection"
   ]
  },
  {
   "cell_type": "code",
   "execution_count": 3,
   "id": "07f1356b",
   "metadata": {},
   "outputs": [],
   "source": [
    "img = cv2.imread('./street_image.jpg')\n",
    "\n",
    "cv2.imshow('img',img)\n",
    "cv2.waitKey(0)\n",
    "cv2.destroyAllWindows()"
   ]
  },
  {
   "cell_type": "code",
   "execution_count": 4,
   "id": "e798a0d0",
   "metadata": {},
   "outputs": [],
   "source": [
    "img_pred = yolo.predictions(img)"
   ]
  },
  {
   "cell_type": "code",
   "execution_count": 5,
   "id": "514dfdaf",
   "metadata": {},
   "outputs": [],
   "source": [
    "cv2.imshow('Predicted Image',img_pred)\n",
    "cv2.waitKey(0)\n",
    "cv2.destroyAllWindows()"
   ]
  },
  {
   "cell_type": "markdown",
   "id": "37589fab",
   "metadata": {},
   "source": [
    "## Real Time Object Detection"
   ]
  },
  {
   "cell_type": "code",
   "execution_count": 10,
   "id": "46e16f23",
   "metadata": {},
   "outputs": [
    {
     "name": "stdout",
     "output_type": "stream",
     "text": [
      "Unable to Read Video\n"
     ]
    }
   ],
   "source": [
    "cap = cv2.VideoCapture('video.mp4')\n",
    "\n",
    "while True:\n",
    "    ret, frame = cap.read()\n",
    "    if ret == False:\n",
    "        print(\"Unable to Read Video\")\n",
    "        break\n",
    "        \n",
    "    pred_image = yolo.predictions(frame)\n",
    "    \n",
    "    cv2.imshow('YOLO', pred_image)\n",
    "    if cv2.waitKey(5) == 27:\n",
    "        break\n",
    "\n",
    "cv2.destroyAllWindows()        "
   ]
  },
  {
   "cell_type": "code",
   "execution_count": null,
   "id": "6c757a46",
   "metadata": {},
   "outputs": [],
   "source": []
  }
 ],
 "metadata": {
  "kernelspec": {
   "display_name": "Python 3 (ipykernel)",
   "language": "python",
   "name": "python3"
  },
  "language_info": {
   "codemirror_mode": {
    "name": "ipython",
    "version": 3
   },
   "file_extension": ".py",
   "mimetype": "text/x-python",
   "name": "python",
   "nbconvert_exporter": "python",
   "pygments_lexer": "ipython3",
   "version": "3.9.13"
  }
 },
 "nbformat": 4,
 "nbformat_minor": 5
}
