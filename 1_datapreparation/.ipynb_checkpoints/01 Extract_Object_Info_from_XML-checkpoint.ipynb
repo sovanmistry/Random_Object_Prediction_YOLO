{
 "cells": [
  {
   "cell_type": "markdown",
   "id": "2ba7bd12",
   "metadata": {},
   "source": [
    "# DATA PREPARATION\n",
    "---\n",
    "---"
   ]
  },
  {
   "cell_type": "markdown",
   "id": "fb438852",
   "metadata": {},
   "source": [
    "## Import Necessary Libraries"
   ]
  },
  {
   "cell_type": "code",
   "execution_count": null,
   "id": "d10f2a42",
   "metadata": {},
   "outputs": [],
   "source": [
    "import os\n",
    "from glob import glob\n",
    "import pandas as pd\n",
    "from functools import reduce\n",
    "from xml.etree import ElementTree as et"
   ]
  },
  {
   "cell_type": "markdown",
   "id": "e8603f31",
   "metadata": {},
   "source": [
    "## STEP 1 : Load ALL XML files and store in a list"
   ]
  },
  {
   "cell_type": "code",
   "execution_count": null,
   "id": "2e5ac671",
   "metadata": {},
   "outputs": [],
   "source": [
    "xml_list = glob(\"C:/Users/06533V744/Desktop/ML/Udemy Courses/5. Yolo Object Detection/Image Prediction/data_images/*.xml\")"
   ]
  },
  {
   "cell_type": "code",
   "execution_count": null,
   "id": "eaf36a8f",
   "metadata": {
    "scrolled": true
   },
   "outputs": [],
   "source": [
    "xml_list"
   ]
  },
  {
   "cell_type": "markdown",
   "id": "c7f5bdae",
   "metadata": {},
   "source": [
    "## Start Data Cleaning"
   ]
  },
  {
   "cell_type": "code",
   "execution_count": null,
   "id": "87485e93",
   "metadata": {},
   "outputs": [],
   "source": [
    "xml_list = list(map(lambda x :x.replace(\"\\\\\",\"/\"),xml_list))"
   ]
  },
  {
   "cell_type": "code",
   "execution_count": null,
   "id": "fdea36af",
   "metadata": {},
   "outputs": [],
   "source": [
    "xml_list"
   ]
  },
  {
   "cell_type": "markdown",
   "id": "50cdd893",
   "metadata": {},
   "source": [
    "## STEP 2: Load XML file - Sample Check"
   ]
  },
  {
   "cell_type": "raw",
   "id": "76a40d09",
   "metadata": {},
   "source": [
    "# From each XML file extract filename, filesize (width, height), object (name, xmin, xmax, ymin, ymax)"
   ]
  },
  {
   "cell_type": "code",
   "execution_count": null,
   "id": "c2fa78c2",
   "metadata": {},
   "outputs": [],
   "source": [
    "tree = et.parse('C:/Users/06533V744/Desktop/ML/Udemy Courses/5. Yolo Object Detection/Image Prediction/data_images/000001.xml')\n",
    "root = tree.getroot()"
   ]
  },
  {
   "cell_type": "code",
   "execution_count": null,
   "id": "7611a43c",
   "metadata": {},
   "outputs": [],
   "source": [
    "root"
   ]
  },
  {
   "cell_type": "code",
   "execution_count": null,
   "id": "83c292e3",
   "metadata": {},
   "outputs": [],
   "source": [
    "# Extract File Name\n",
    "\n",
    "image_name = root.find(\"filename\").text\n",
    "image_name"
   ]
  },
  {
   "cell_type": "code",
   "execution_count": null,
   "id": "c09ca54f",
   "metadata": {},
   "outputs": [],
   "source": [
    "# Width and Height of the Image File\n",
    "\n",
    "width = root.find('size').find('width').text\n",
    "height = root.find('size').find('height').text\n",
    "\n",
    "[width, height]"
   ]
  },
  {
   "cell_type": "code",
   "execution_count": null,
   "id": "0438c735",
   "metadata": {},
   "outputs": [],
   "source": [
    "# our first image has 3 objects\n",
    "# FIRST OBJECT : find the name, name, xmin, xmax, ymin, ymax\n",
    "\n",
    "objs = root.findall('object')\n",
    "\n",
    "obj = objs[0]\n",
    "obj"
   ]
  },
  {
   "cell_type": "code",
   "execution_count": null,
   "id": "250e301e",
   "metadata": {},
   "outputs": [],
   "source": [
    "name = obj.find('name').text\n",
    "bndbox = obj.find('bndbox')\n",
    "\n",
    "xmin = bndbox.find('xmin').text\n",
    "ymin = bndbox.find('ymin').text\n",
    "xmax = bndbox.find('xmax').text\n",
    "ymax = bndbox.find('ymax').text\n",
    "\n",
    "[name, xmin, ymin, xmax, ymax]"
   ]
  },
  {
   "cell_type": "code",
   "execution_count": null,
   "id": "5542ab13",
   "metadata": {
    "scrolled": true
   },
   "outputs": [],
   "source": [
    "# ALL THE OBJECTS : Find the name, name, xmin, xmax, ymin, ymax \n",
    "\n",
    "for obj in objs:\n",
    "    name = obj.find('name').text\n",
    "    bndbox = obj.find('bndbox')\n",
    "\n",
    "    xmin = bndbox.find('xmin').text\n",
    "    ymin = bndbox.find('ymin').text\n",
    "    xmax = bndbox.find('xmax').text\n",
    "    ymax = bndbox.find('ymax').text\n",
    "\n",
    "    print([name, xmin, ymin, xmax, ymax])"
   ]
  },
  {
   "cell_type": "markdown",
   "id": "38ea4d5d",
   "metadata": {},
   "source": [
    "## STEP 2: Load XML file - Detailed Version"
   ]
  },
  {
   "cell_type": "code",
   "execution_count": null,
   "id": "caa55276",
   "metadata": {},
   "outputs": [],
   "source": [
    "'''\n",
    "\n",
    "NOTE: Time to combine all above things together\n",
    "\n",
    "'''"
   ]
  },
  {
   "cell_type": "code",
   "execution_count": null,
   "id": "9ef783ce",
   "metadata": {},
   "outputs": [],
   "source": [
    "# Extract information like image_name, width, height, name, xmin, ymin, xmax, ymax\n",
    "\n",
    "\n",
    "parser = []\n",
    "\n",
    "# Decide the image\n",
    "image_name = root.find(\"filename\").text\n",
    "width = root.find('size').find('width').text\n",
    "height = root.find('size').find('height').text\n",
    "\n",
    "# Extract the data for objects\n",
    "for obj in objs:\n",
    "    name = obj.find('name').text\n",
    "    bndbox = obj.find('bndbox')\n",
    "\n",
    "    xmin = bndbox.find('xmin').text\n",
    "    ymin = bndbox.find('ymin').text\n",
    "    xmax = bndbox.find('xmax').text\n",
    "    ymax = bndbox.find('ymax').text\n",
    "\n",
    "    parser.append([image_name, width, height, name, xmin, ymin, xmax, ymax])\n",
    "    \n",
    "parser"
   ]
  },
  {
   "cell_type": "markdown",
   "id": "bc4bcbd6",
   "metadata": {},
   "source": [
    "## Function for this extraction task"
   ]
  },
  {
   "cell_type": "code",
   "execution_count": null,
   "id": "a8fa2cff",
   "metadata": {},
   "outputs": [],
   "source": [
    "### Create a Function for this extraction task\n",
    "\n",
    "def extract_text(filename):\n",
    "    \n",
    "    \n",
    "    tree = et.parse(filename)\n",
    "    root = tree.getroot()\n",
    "    \n",
    "\n",
    "    # Decide the image\n",
    "    image_name = root.find(\"filename\").text\n",
    "    width = root.find('size').find('width').text\n",
    "    height = root.find('size').find('height').text\n",
    "    \n",
    "    objs = root.findall('object')\n",
    "    parser =[]\n",
    "\n",
    "    # Extract the data for objects\n",
    "    for obj in objs:\n",
    "        name = obj.find('name').text\n",
    "        bndbox = obj.find('bndbox')\n",
    "\n",
    "        xmin = bndbox.find('xmin').text\n",
    "        ymin = bndbox.find('ymin').text\n",
    "        xmax = bndbox.find('xmax').text\n",
    "        ymax = bndbox.find('ymax').text\n",
    "\n",
    "        parser.append([image_name, width, height, name, xmin, ymin, xmax, ymax])\n",
    "\n",
    "    return parser\n",
    "\n"
   ]
  },
  {
   "cell_type": "code",
   "execution_count": null,
   "id": "86edcc34",
   "metadata": {},
   "outputs": [],
   "source": [
    "parser_all = list(map(extract_text, xml_list))"
   ]
  },
  {
   "cell_type": "code",
   "execution_count": null,
   "id": "85d2cabd",
   "metadata": {},
   "outputs": [],
   "source": [
    "'''\n",
    "parser_all = []\n",
    "for i in xml_list:\n",
    "    \n",
    "    parser_all.append(extract_text(i))\n",
    "    \n",
    "'''"
   ]
  },
  {
   "cell_type": "code",
   "execution_count": null,
   "id": "8c1f257d",
   "metadata": {},
   "outputs": [],
   "source": [
    "len(parser_all)"
   ]
  },
  {
   "cell_type": "code",
   "execution_count": null,
   "id": "0d285e14",
   "metadata": {
    "scrolled": true
   },
   "outputs": [],
   "source": [
    "parser_all[4500]"
   ]
  },
  {
   "cell_type": "markdown",
   "id": "0c179d63",
   "metadata": {},
   "source": [
    "## FLATTEN the Data"
   ]
  },
  {
   "cell_type": "code",
   "execution_count": null,
   "id": "ec1afe77",
   "metadata": {},
   "outputs": [],
   "source": [
    "\n",
    "\n",
    "data = reduce (lambda x, y : x+y, parser_all)\n",
    "data"
   ]
  },
  {
   "cell_type": "markdown",
   "id": "a30d4ab0",
   "metadata": {},
   "source": [
    "## Prepare our DataFrame"
   ]
  },
  {
   "cell_type": "code",
   "execution_count": null,
   "id": "c6c28afb",
   "metadata": {},
   "outputs": [],
   "source": [
    "df = pd.DataFrame(data, columns = ['file_name', 'width', 'height', 'name', 'xmin', 'ymin', 'xmax', 'ymax'])"
   ]
  },
  {
   "cell_type": "code",
   "execution_count": null,
   "id": "eb5c634d",
   "metadata": {},
   "outputs": [],
   "source": [
    "df.head()"
   ]
  },
  {
   "cell_type": "code",
   "execution_count": null,
   "id": "f31c7c20",
   "metadata": {},
   "outputs": [],
   "source": [
    "df.shape"
   ]
  },
  {
   "cell_type": "code",
   "execution_count": null,
   "id": "487665fd",
   "metadata": {
    "scrolled": true
   },
   "outputs": [],
   "source": [
    "df['name'].value_counts()"
   ]
  },
  {
   "cell_type": "markdown",
   "id": "7633954d",
   "metadata": {},
   "source": [
    "## STEP 3 : Find out center_x, center_y, w, h"
   ]
  },
  {
   "cell_type": "code",
   "execution_count": null,
   "id": "3d5a4395",
   "metadata": {},
   "outputs": [],
   "source": [
    "df.info()"
   ]
  },
  {
   "cell_type": "code",
   "execution_count": null,
   "id": "80a98b61",
   "metadata": {},
   "outputs": [],
   "source": [
    "# Conclusion : we need to turn this objects into numeric\n",
    "\n",
    "# TYPE CONVERSION\n",
    "\n",
    "\n",
    "df.columns"
   ]
  },
  {
   "cell_type": "code",
   "execution_count": null,
   "id": "e24f43f1",
   "metadata": {},
   "outputs": [],
   "source": [
    "cols = ['width', 'height', 'xmin', 'ymin', 'xmax', 'ymax']\n",
    "df[cols] = df[cols].astype(int)\n",
    "df.info()"
   ]
  },
  {
   "cell_type": "code",
   "execution_count": null,
   "id": "c1c5d712",
   "metadata": {},
   "outputs": [],
   "source": [
    "# center_x & center_y\n",
    "\n",
    "df['center_x'] = ((df['xmin'] +df['xmax']) /2) /df['width']\n",
    "df['center_y'] = ((df['ymin'] +df['ymax']) /2) /df['height']\n",
    "\n",
    "\n",
    "# w & h\n",
    "\n",
    "df['w'] = (df['xmax']-df['xmin'])/df['width']\n",
    "df['h'] = (df['ymax']-df['ymin'])/df['height']\n"
   ]
  },
  {
   "cell_type": "code",
   "execution_count": null,
   "id": "0eb61395",
   "metadata": {},
   "outputs": [],
   "source": [
    "df.head()"
   ]
  },
  {
   "cell_type": "markdown",
   "id": "63e4d27d",
   "metadata": {},
   "source": [
    "## STEP 4 : Split data in train and test"
   ]
  },
  {
   "cell_type": "code",
   "execution_count": null,
   "id": "65a60cdc",
   "metadata": {},
   "outputs": [],
   "source": [
    "# check how many images \n",
    "\n",
    "images = df['file_name'].unique()\n",
    "len(images)"
   ]
  },
  {
   "cell_type": "code",
   "execution_count": null,
   "id": "30939f4c",
   "metadata": {},
   "outputs": [],
   "source": [
    "# 80% train 20% Test\n",
    "\n",
    "image_df = pd.DataFrame(images, columns = ['file_name'])\n",
    "\n",
    "# Shuffle and pic 80% images\n",
    "image_train = tuple(image_df.sample(frac=0.8)['file_name'])\n",
    "\n",
    "# Take rest 20%\n",
    "image_test = tuple(image_df.query(f'file_name not in {image_train}')['file_name'])"
   ]
  },
  {
   "cell_type": "code",
   "execution_count": null,
   "id": "cdbb532d",
   "metadata": {},
   "outputs": [],
   "source": [
    "len(image_train)"
   ]
  },
  {
   "cell_type": "code",
   "execution_count": null,
   "id": "cbb3dd39",
   "metadata": {},
   "outputs": [],
   "source": [
    "len(image_test)"
   ]
  },
  {
   "cell_type": "code",
   "execution_count": null,
   "id": "791e72ff",
   "metadata": {},
   "outputs": [],
   "source": [
    "train_df = df.query(f'file_name in {image_train}')\n",
    "test_df = df.query(f'file_name in {image_test}')"
   ]
  },
  {
   "cell_type": "code",
   "execution_count": null,
   "id": "13590e44",
   "metadata": {},
   "outputs": [],
   "source": [
    "train_df.head()"
   ]
  },
  {
   "cell_type": "code",
   "execution_count": null,
   "id": "3d34da2e",
   "metadata": {},
   "outputs": [],
   "source": [
    "test_df.head()"
   ]
  },
  {
   "cell_type": "markdown",
   "id": "b9df5c6b",
   "metadata": {},
   "source": [
    "## STEP : 5 LABEL ENCODING"
   ]
  },
  {
   "cell_type": "code",
   "execution_count": null,
   "id": "61dddbe3",
   "metadata": {},
   "outputs": [],
   "source": [
    "# converting name to ids\n",
    "\n",
    "def Label_Encoding(x):\n",
    "    labels = {'person' : 0,\n",
    "              'car' : 1, \n",
    "              'chair' : 2,\n",
    "              'bottle' : 3,\n",
    "              'pottedplant' : 4,\n",
    "              'bird' : 5,\n",
    "              'dog' : 6,\n",
    "              'sofa' : 7,\n",
    "              'bicycle' : 8,\n",
    "              'horse' : 9,\n",
    "              'boat' : 10,\n",
    "              'motorbike' : 11,\n",
    "              'cat' : 12,\n",
    "              'tvmonitor' : 13,\n",
    "              'cow' :14,\n",
    "              'sheep' : 15,\n",
    "              'aeroplane' : 16,\n",
    "              'train': 17,\n",
    "              'diningtable': 18,\n",
    "              'bus' : 19 }\n",
    "    \n",
    "    return labels[x]"
   ]
  },
  {
   "cell_type": "code",
   "execution_count": null,
   "id": "97e38026",
   "metadata": {},
   "outputs": [],
   "source": [
    "train_df['id'] = train_df['name'].apply(Label_Encoding)\n",
    "\n",
    "test_df['id'] = test_df['name'].apply(Label_Encoding)"
   ]
  },
  {
   "cell_type": "code",
   "execution_count": null,
   "id": "77905307",
   "metadata": {},
   "outputs": [],
   "source": [
    "train_df.head()"
   ]
  },
  {
   "cell_type": "code",
   "execution_count": null,
   "id": "aed86089",
   "metadata": {
    "scrolled": true
   },
   "outputs": [],
   "source": [
    "test_df.head()"
   ]
  },
  {
   "cell_type": "markdown",
   "id": "933b9b2f",
   "metadata": {},
   "source": [
    "## STEP 6 : Save Images and Labels in Text "
   ]
  },
  {
   "cell_type": "code",
   "execution_count": null,
   "id": "fecb9743",
   "metadata": {},
   "outputs": [],
   "source": [
    "import os\n",
    "from shutil import move"
   ]
  },
  {
   "cell_type": "code",
   "execution_count": null,
   "id": "9d036956",
   "metadata": {},
   "outputs": [],
   "source": [
    "train_folder = 'C:/Users/06533V744/Desktop/ML/Udemy Courses/5. Yolo Object Detection/Image Prediction/data_images/train'\n",
    "test_folder = 'C:/Users/06533V744/Desktop/ML/Udemy Courses/5. Yolo Object Detection/Image Prediction/data_images/test'\n",
    "\n",
    "os.mkdir(train_folder)\n",
    "os.mkdir(test_folder)"
   ]
  },
  {
   "cell_type": "code",
   "execution_count": null,
   "id": "8faa706e",
   "metadata": {},
   "outputs": [],
   "source": [
    "cols = ['file_name', 'id', 'center_x', 'center_y', 'w', 'h']\n",
    "\n",
    "groupby_obj_train = train_df[cols].groupby('file_name')\n",
    "groupby_obj_test = test_df[cols].groupby('file_name')"
   ]
  },
  {
   "cell_type": "code",
   "execution_count": null,
   "id": "f26c97c5",
   "metadata": {},
   "outputs": [],
   "source": [
    "def save_data(file_name, folder_path, group_obj):\n",
    "    \n",
    "    # Move Image\n",
    "    src = os.path.join('C:/Users/06533V744/Desktop/ML/Udemy Courses/5. Yolo Object Detection/Image Prediction/data_images/', file_name)\n",
    "    dst = os.path.join(folder_path, file_name)\n",
    "    move(src, dst)\n",
    "    \n",
    "    # Save the labels \n",
    "    text_filename = os.path.join(folder_path, os.path.splitext(file_name)[0]+'.txt')\n",
    "    \n",
    "    group_obj.get_group(file_name).set_index('file_name').to_csv(text_filename, sep =' ', index = False, header = False)\n",
    "    "
   ]
  },
  {
   "cell_type": "code",
   "execution_count": null,
   "id": "67985991",
   "metadata": {},
   "outputs": [],
   "source": [
    "filename_series = pd.Series(groupby_obj_train.groups.keys())"
   ]
  },
  {
   "cell_type": "code",
   "execution_count": null,
   "id": "e12739f7",
   "metadata": {},
   "outputs": [],
   "source": [
    "filename_series.apply(save_data, args = (train_folder , groupby_obj_train ))"
   ]
  },
  {
   "cell_type": "code",
   "execution_count": null,
   "id": "5b542dfc",
   "metadata": {},
   "outputs": [],
   "source": [
    "filename_series = pd.Series(groupby_obj_test.groups.keys())\n",
    "filename_series.apply(save_data, args = (test_folder , groupby_obj_test ))"
   ]
  },
  {
   "cell_type": "code",
   "execution_count": null,
   "id": "36c57807",
   "metadata": {},
   "outputs": [],
   "source": [
    "df['name'].unique()"
   ]
  },
  {
   "cell_type": "code",
   "execution_count": null,
   "id": "7867f5e3",
   "metadata": {},
   "outputs": [],
   "source": []
  }
 ],
 "metadata": {
  "kernelspec": {
   "display_name": "Python 3 (ipykernel)",
   "language": "python",
   "name": "python3"
  },
  "language_info": {
   "codemirror_mode": {
    "name": "ipython",
    "version": 3
   },
   "file_extension": ".py",
   "mimetype": "text/x-python",
   "name": "python",
   "nbconvert_exporter": "python",
   "pygments_lexer": "ipython3",
   "version": "3.9.13"
  }
 },
 "nbformat": 4,
 "nbformat_minor": 5
}
